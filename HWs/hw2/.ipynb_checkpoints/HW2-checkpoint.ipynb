{
 "cells": [
  {
   "cell_type": "markdown",
   "metadata": {},
   "source": [
    "## Simulation: Drop needles\n",
    "\n",
    "Suppose we have a floor made of parallel strips of wood, each the same width $t$, and we drop a needle with length $l=t$ onto the floor. What is the probability that the needle will lie across a line between two strips?\n",
    "\n",
    "Below is an example of two needles dropped. Needle a falls across a line, while needle b does not.\n",
    "\n",
    "![Example](needle.png)"
   ]
  },
  {
   "cell_type": "markdown",
   "metadata": {},
   "source": [
    "In this coding homework, we will simulate such experiments and connect them with the estimation of $\\pi$."
   ]
  },
  {
   "cell_type": "code",
   "execution_count": 2,
   "metadata": {},
   "outputs": [],
   "source": [
    "import numpy as np\n",
    "import math\n",
    "import matplotlib.pyplot as plt"
   ]
  },
  {
   "cell_type": "markdown",
   "metadata": {},
   "source": [
    "The first thing to write is a function *drop_needle*. It simulates dropping a needle onto the floor we described and returns whether the needle lies across a line between two strips. \n",
    "\n",
    "Now the question is how to describe the position of a needle using random variables. The figure below visualizes a needle sampled, with $t=l=1$ (see figure above). Remember that the needle should have an equal probability of landing in any position. In fact, we can uniformly sample the position of the needle's mass center and then uniformly sample the angle formed by the needle and the x-axis. Specifically, we only focus on the mass center's position with respect to (w.r.t.) the x-axis since we can assume the strip is long enough.\n",
    "\n",
    "Besides, we do not need to sample the x-value of the center from $-\\inf$ to $\\inf$. Instead, we can uniformly sample it from $0$ to $2t$. Why is this the case?"
   ]
  },
  {
   "cell_type": "markdown",
   "metadata": {},
   "source": [
    "![needleExmple2](needleExmple2.png)"
   ]
  },
  {
   "cell_type": "markdown",
   "metadata": {},
   "source": [
    "[10pts]"
   ]
  },
  {
   "cell_type": "code",
   "execution_count": 3,
   "metadata": {},
   "outputs": [
    {
     "data": {
      "text/plain": [
       "0"
      ]
     },
     "execution_count": 3,
     "metadata": {},
     "output_type": "execute_result"
    }
   ],
   "source": [
    "pi = math.pi\n",
    "cos = math.cos\n",
    "\n",
    "def rand(lower, upper):\n",
    "    return np.random.random_sample() * (upper - lower) + lower\n",
    "\n",
    "def drop_needle(strip_length, needle_length):\n",
    "    \"\"\"\n",
    "    Simulate dropping a needle on to the floor made of parallel strips of woods.\n",
    "    Return whether the needle lie across a line between two strips.\n",
    "\n",
    "    :return: An Integer that equals to 1 if the needle lie across a line, and 0 otherwise.\n",
    "    \"\"\" \n",
    "\n",
    "    x = rand(0, strip_length)\n",
    "    theta = rand(0, pi/2)\n",
    "    d = needle_length/2 * cos(theta)\n",
    "    \n",
    "    return 1 if (x + d > strip_length or x - d < 0) else 0\n",
    "    \n",
    "drop_needle(1, 1)\n"
   ]
  },
  {
   "cell_type": "markdown",
   "metadata": {},
   "source": [
    "Next, write a function run_simulation that calls drop_needle repetitively for n times. The function should return the probability that a dropped needle lies across a line based on the n trials. [5pts]"
   ]
  },
  {
   "cell_type": "code",
   "execution_count": 4,
   "metadata": {},
   "outputs": [],
   "source": [
    "def run_simulation(n, strip_length, needle_length):\n",
    "    \"\"\"\n",
    "    Repeat drop_needle experiment for n times. Return the probability that the needle will lie across a line. \n",
    "\n",
    "    :return: float, the probability that the needle will lie across a line according to the n experiments.\n",
    "    \"\"\" \n",
    "    \n",
    "    count = 0\n",
    "    for _ in range(n):\n",
    "        if drop_needle(strip_length, needle_length): \n",
    "            count += 1\n",
    "    return count / n\n",
    "    \n",
    "\n",
    "        \n",
    "    "
   ]
  },
  {
   "cell_type": "markdown",
   "metadata": {},
   "source": [
    "### Run the simulation\n",
    "\n",
    "Run the *run_simulation* function 500 times with parameters n=1000, strip_length=1, and needle_length=1. Each time the function is going to return a probability of the needle lying across the line. Plot a histogram of those 500 probabilities. [5pts]"
   ]
  },
  {
   "cell_type": "code",
   "execution_count": 157,
   "metadata": {
    "scrolled": true
   },
   "outputs": [
    {
     "data": {
      "image/png": "[encoded data removed]",
      "text/plain": [
       "<Figure size 640x480 with 1 Axes>"
      ]
     },
     "metadata": {},
     "output_type": "display_data"
    }
   ],
   "source": [
    "d = {}\n",
    "\n",
    "for _ in range(500):\n",
    "    point = run_simulation(1000, 1, 1)\n",
    "    if point in d:\n",
    "        d[point] += 1\n",
    "    else:\n",
    "        d[point] = 0\n",
    "\n",
    "plt.hist(d)\n",
    "plt.show()"
   ]
  },
  {
   "cell_type": "markdown",
   "metadata": {},
   "source": [
    "## Estimate $\\pi$ based on the returned probability\n",
    "\n",
    "This experiment can be used to estimate the value of $\\pi$. In the case where the needle length $l$ equals to the width $t$ of the strips, the probability of a needle lies across a line is $p=\\frac{2}{\\pi}$. Try to prove why this holds. [15pts]\n"
   ]
  },
  {
   "cell_type": "markdown",
   "metadata": {},
   "source": [
    "My proof:\n",
    "\n",
    "Let $l$ be the length of the needle, and let $t$ be the width of each strip of wood.\n",
    "\n",
    "The angle $\\Theta$ of the needle in its final resting place is distributed uniformly at random between 0 and $2\\pi$. \n",
    "\n",
    "Since the horizontal location of the needle's center is distributed uniformly at random between $0$ and $2l$, and the angle at which the needle lands is independent of the horizontal coordinate, we have two mutually independent random variables.\n",
    "\n",
    "When $t$ = $l$, if the angle of the needle is 0 radians, the needle will always overlap with multiple boards, and if it is $\\frac{\\pi}{2}$ radians, it will never overlap with multiple boards. The expected amount the needle will extend horizontally is determined by $\\frac{|cos(\\Theta)|}{2 * \\pi/2}$ over the relevant range, which comes out to $1/\\pi \\approx 0.318$. Therefore, since the needle stretches in both directions, the chance that the needle will span multiple boards is $2/\\pi$, which we can reverse-engineer to determine $\\pi$'s value experimentally."
   ]
  },
  {
   "cell_type": "markdown",
   "metadata": {},
   "source": [
    "\n",
    "Assume you know $p=\\frac{2}{\\pi}$, and you can call the function *run_simulation*. Let $X_i$ be the indicator random variable of dropping the $i$-th needle, i.e., $X_i=1$ if the $i$-th needle lies across a line, and $X_i=0$ otherwise. Let $S_n=\\sum_{i=1}^n X_i$. How many needles do you need to drop, i.e., what value of $n$ should you take, to get the 95\\% confidence interval of $S_n$? Use Chebyshev's inequality and let $\\epsilon=0.1$. [15pts]"
   ]
  },
  {
   "cell_type": "markdown",
   "metadata": {},
   "source": [
    "My answer:\n",
    "\n",
    "We're trying to plug the unknown variables into this equation to solve for n:\n",
    "\n",
    "$Pr(|\\frac{S_n}{n} - \\mu| > \\epsilon) \\le \\frac{\\sigma^2}{n\\epsilon^2}$\n",
    "\n",
    "\n",
    "We know that $\\mu = \\frac{\\pi}{2}$, $\\epsilon = 0.1$, and the desired $Pr(|\\frac{S_n}{n} - \\mu| > \\epsilon) = 0.05$. So, what is the expected value of $\\sigma^2$, the last piece of information we need?\n",
    "\n",
    "Let us approximate the variance of the distribution code:"
   ]
  },
  {
   "cell_type": "code",
   "execution_count": 170,
   "metadata": {
    "scrolled": true
   },
   "outputs": [
    {
     "name": "stdout",
     "output_type": "stream",
     "text": [
      "Experimental Mean:  0.6363\n",
      "Variance:  0.23144545454545457\n"
     ]
    }
   ],
   "source": [
    "\n",
    "n = 10000 #arbitrary assignment of n\n",
    "mean = run_simulation(n, 1, 1)\n",
    "print(\"Experimental Mean: \", mean)\n",
    "\n",
    "# (mean*n) extracts S_n from the output of run_simulation\n",
    "# so we can use it to calculate the variance!\n",
    "variance = ((mean*n) * (1-mean)**2 + ((n - (mean*n)) * mean**2))/(n-1)\n",
    "print(\"Variance: \", variance)"
   ]
  },
  {
   "cell_type": "markdown",
   "metadata": {},
   "source": [
    "We see that the expected variance is around $0.231$, so we can base our calculations on this value.\n",
    "\n",
    "We can treat the inequality as an equality (to calculate the bound), plugging everything in to $Pr(|\\frac{S_n}{n} - \\mu| > \\epsilon) = \\frac{\\sigma^2}{n\\epsilon^2}$ and realize that:\n",
    "\n",
    "$0.05 = \\frac{0.231}{0.01n}$\n",
    "\n",
    "Solving for $n$, we get the following:\n",
    "\n",
    "$n = \\frac{0.231}{0.0005} \\approx 462$\n",
    "\n",
    "This shows that we need to sample approximately 462 needle drops in order to be 95% sure that the observed $\\frac{S_n}{n}$ does not deviate from the \"true mean\" ($\\mu$) by more than 0.1 units of length."
   ]
  },
  {
   "cell_type": "markdown",
   "metadata": {},
   "source": [
    "What does the CLT say about $S_n$? Run the *run_simulation* function with parameters n=5000, strip_length=1, and needle_length=1, and report a 95\\% confidence interval of $S_n$ based on CLT (see lecture slides page 4 from Feb 2). [10pts] "
   ]
  },
  {
   "cell_type": "code",
   "execution_count": 581,
   "metadata": {},
   "outputs": [
    {
     "name": "stdout",
     "output_type": "stream",
     "text": [
      "Experimental Mean (S_n / n):  0.64\n",
      "S_n is calculated to be 3200\n",
      "Variance (𝜎^2):  0.23044608921784357\n",
      "Standard Deviation (𝜎):  0.4800480072012002\n",
      "With 95% confidence, we can say that the experimental mean is within two standard deviations (0.9600960144024004) of the true mean.\n"
     ]
    }
   ],
   "source": [
    "n = 5000  # n = 5000\n",
    "mean = run_simulation(n, 1, 1)\n",
    "print(\"Experimental Mean (S_n / n): \", mean)\n",
    "\n",
    "sn = round(mean * n)\n",
    "print(\"S_n is calculated to be\", sn)\n",
    "\n",
    "# (mean*n) extracts S_n from the output of run_simulation\n",
    "# so we can use it to calculate the variance!\n",
    "variance = ((mean*n) * (1-mean)**2 + ((n - (mean*n)) * mean**2))/(n-1)\n",
    "print(\"Variance (𝜎^2): \", variance)\n",
    "\n",
    "sigma = math.sqrt(variance)\n",
    "print(\"Standard Deviation (𝜎): \", sigma)\n",
    "\n",
    "print(\"With 95% confidence, we can say that the experimental mean\\\n",
    " is within two standard deviations (\" + str(2*sigma) + \") of\\\n",
    " the true mean.\")"
   ]
  },
  {
   "cell_type": "code",
   "execution_count": null,
   "metadata": {},
   "outputs": [],
   "source": []
  }
 ],
 "metadata": {
  "kernelspec": {
   "display_name": "Python 3 (ipykernel)",
   "language": "python",
   "name": "python3"
  },
  "language_info": {
   "codemirror_mode": {
    "name": "ipython",
    "version": 3
   },
   "file_extension": ".py",
   "mimetype": "text/x-python",
   "name": "python",
   "nbconvert_exporter": "python",
   "pygments_lexer": "ipython3",
   "version": "3.9.13"
  }
 },
 "nbformat": 4,
 "nbformat_minor": 4
}
